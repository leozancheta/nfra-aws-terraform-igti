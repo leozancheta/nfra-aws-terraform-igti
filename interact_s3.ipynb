{
 "cells": [
  {
   "cell_type": "code",
   "execution_count": null,
   "metadata": {},
   "outputs": [],
   "source": [
    "import boto3\n",
    "import pandas as pd"
   ]
  },
  {
   "cell_type": "code",
   "execution_count": 16,
   "metadata": {},
   "outputs": [],
   "source": [
    "s3_client = boto3.client('s3')\n",
    "bucket_name = \"zancleo-edc\"\n",
    "local_path = \"data/MICRODADOS_ENEM_2020.csv\"\n",
    "s3_path = \"data/UFOs_coord.csv\"\n",
    "s3_upload_path = \"raw-data/MICRODADOS_ENEM_2020\""
   ]
  },
  {
   "cell_type": "code",
   "execution_count": 3,
   "metadata": {},
   "outputs": [],
   "source": [
    "s3_client.download_file(\n",
    "        Bucket=bucket_name,\n",
    "        Key=s3_path,\n",
    "        Filename=local_path\n",
    ")"
   ]
  },
  {
   "cell_type": "code",
   "execution_count": 17,
   "metadata": {},
   "outputs": [],
   "source": [
    "s3_client.upload_file(\n",
    "    Filename=local_path,\n",
    "    Bucket=bucket_name,\n",
    "    Key=s3_upload_path\n",
    ")"
   ]
  },
  {
   "cell_type": "code",
   "execution_count": 14,
   "metadata": {},
   "outputs": [
    {
     "name": "stdout",
     "output_type": "stream",
     "text": [
      "              Date / Time Country        City State     Shape   \n",
      "0          12/21/16 19:15     USA  Waynesboro    VA    Sphere  \\\n",
      "1          12/21/16 00:00     USA  Louisville    KY   Unknown   \n",
      "2          12/20/16 22:30     USA  Santa Rosa    CA    Sphere   \n",
      "3          12/20/16 19:00     USA      Fresno    CA    Circle   \n",
      "4          12/19/16 21:53     USA     Reymert    AZ    Circle   \n",
      "...                   ...     ...         ...   ...       ...   \n",
      "5172  2016-01-01 00.00.00     USA   Elk Grove    CA     Light   \n",
      "5173  2016-01-01 00.00.00     USA   Anchorage    AK    Circle   \n",
      "5174  2016-01-01 00.00.00     USA   Sodaville    OR    Sphere   \n",
      "5175  2016-01-01 00.00.00     USA      Arnold    MO  Triangle   \n",
      "5176  2016-01-01 00.00.00     USA      Vernon    CT    Sphere   \n",
      "\n",
      "                                                Summary        lat         lng  \n",
      "0                  Bright round object hovering in sky.  38.065229  -78.905888  \n",
      "1     Multiple craft ascending from north of Shelbyv...  38.254238  -85.759407  \n",
      "2     Bright orange planet-like object sighted near ...  38.440467 -122.714431  \n",
      "3         Twelve orange globes in formation over Fresno  36.729529 -119.708861  \n",
      "4     While camping in the Cottonwood canyon Rd., al...  33.229779 -111.209290  \n",
      "...                                                 ...        ...         ...  \n",
      "5172  6-7 peach-colored craft moving easterly direct...  38.408799 -121.371618  \n",
      "5173                          New Years yellow objects.  61.216313 -149.894852  \n",
      "5174  Two balls of orange light seen above the trees...  44.483395 -122.869982  \n",
      "5175  Triangle obj. moving W to SE from my position....  38.432832  -90.377619  \n",
      "5176                             Red sphere in the sky.  36.092946  -80.149628  \n",
      "\n",
      "[5177 rows x 8 columns]\n"
     ]
    }
   ],
   "source": [
    "df = pd.read_csv(\"data/UFOs_coord_s3.csv\", sep=\",\", encoding='cp1252')\n",
    "print(df)"
   ]
  },
  {
   "cell_type": "code",
   "execution_count": null,
   "metadata": {},
   "outputs": [],
   "source": []
  }
 ],
 "metadata": {
  "kernelspec": {
   "display_name": "Python 3",
   "language": "python",
   "name": "python3"
  },
  "language_info": {
   "codemirror_mode": {
    "name": "ipython",
    "version": 3
   },
   "file_extension": ".py",
   "mimetype": "text/x-python",
   "name": "python",
   "nbconvert_exporter": "python",
   "pygments_lexer": "ipython3",
   "version": "3.11.3"
  },
  "orig_nbformat": 4
 },
 "nbformat": 4,
 "nbformat_minor": 2
}
